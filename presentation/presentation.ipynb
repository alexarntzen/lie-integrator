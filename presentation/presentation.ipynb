{
 "cells": [
  {
   "cell_type": "markdown",
   "metadata": {
    "collapsed": true,
    "pycharm": {
     "name": "#%% md\n"
    },
    "slideshow": {
     "slide_type": "slide"
    }
   },
   "source": [
    "**MA8404 project presentation**\n",
    "# Introduction to Lie group methods\n",
    "with a focus on matrix groups.\n",
    "\n",
    "**Author:** Alexander Johan Arntzen\n",
    "\n",
    "**Date:** 23.11.2021"
   ]
  },
  {
   "cell_type": "code",
   "execution_count": null,
   "metadata": {
    "pycharm": {
     "name": "#%%\n"
    },
    "slideshow": {
     "slide_type": "skip"
    }
   },
   "outputs": [],
   "source": [
    "\"\"\"This cell is just for customize the notebook experinece. No math here please move on..\"\"\"\n",
    "%load_ext autoreload\n",
    "%autoreload 2\n",
    "\n",
    "# imports and useful functions\n",
    "from IPython.display import clear_output\n",
    "import numpy as np\n",
    "import matplotlib.pyplot as plt\n",
    "from matplotlib_inline.backend_inline import set_matplotlib_formats\n",
    "\n",
    "set_matplotlib_formats('pdf', 'svg')\n",
    "\n",
    "# line cyclers adapted to colourblind people\n",
    "from cycler import cycler\n",
    "\n",
    "line_cycler = (cycler(color=[\"#E69F00\", \"#56B4E9\", \"#009E73\", \"#0072B2\", \"#D55E00\", \"#CC79A7\", \"#F0E442\"]) +\n",
    "               cycler(linestyle=[\"-\", \"--\", \"-.\", \":\", \"-\", \"--\", \"-.\"]))\n",
    "plt.rc(\"axes\", prop_cycle=line_cycler)\n",
    "plt.rc('axes', axisbelow=True)\n",
    "\n"
   ]
  },
  {
   "cell_type": "markdown",
   "metadata": {
    "pycharm": {
     "name": "#%% md\n"
    },
    "slideshow": {
     "slide_type": "slide"
    }
   },
   "source": [
    "# What is a Lie group?\n",
    "\n",
    "## Definition\n",
    "  A Lie group $G$ is a smooth manifold that is also a group, such that multiplication\n",
    "\n",
    "  \\begin{equation}\n",
    "    \\mu : G \\times G \\rightarrow G\n",
    "  \\end{equation}\n",
    "\n",
    "  and inversion\n",
    "\n",
    "  \\begin{equation}\n",
    "    i : G  \\rightarrow G\n",
    "  \\end{equation}\n",
    "  are smooth."
   ]
  },
  {
   "cell_type": "markdown",
   "metadata": {
    "slideshow": {
     "slide_type": "slide"
    }
   },
   "source": [
    "## Matrix Lie grops\n",
    "We note that the matrix group of $n \\times n$ invertible matrices $GL_n(\\mathbb{R})$ is a Lie group with normal matrix multiplication and matrix inverse.\n",
    "\n",
    "To avoid dealing to many details we restrict ourselves to the matrix gruops and its subgroup."
   ]
  },
  {
   "cell_type": "markdown",
   "metadata": {
    "slideshow": {
     "slide_type": "slide"
    }
   },
   "source": [
    "## Matrix lie group example $SO(n)$\n",
    "An interesting example of a Lie group is the Special Orthogonal Group $SO(n)$. This is the group of orthonormal matrices $\\{Q: Q^TQ=I\\}$\n",
    "\n",
    "Now consider a curve $Q$ with $Q(t) = I$. Then\n",
    "\n",
    "\\begin{equation}\n",
    "    \\frac{d}{dt} QQ^T  =  \\dot Q + \\dot Q^T = 0\n",
    "\\end{equation}\n",
    "\n",
    "So at $e=I$ the all derivatives of curves will be skew symmetric. We call the space of derivatives at $e$ the Lie algebra."
   ]
  },
  {
   "cell_type": "markdown",
   "metadata": {
    "slideshow": {
     "slide_type": "slide"
    }
   },
   "source": [
    "## The exponential map\n",
    "Consider an initial value problem on a matrix Lie group\n",
    "\n",
    "\\begin{aligned}\n",
    "\\dot Y &= AY\\\\\n",
    " Y(0) &= Y_0\n",
    "\\end{aligned}\n",
    "\n",
    "Then we know that $Y(t) = \\exp(tA) Y_0$ solves this equation. This is called the exponential map and generalises beyond matrix groups."
   ]
  },
  {
   "cell_type": "markdown",
   "metadata": {
    "pycharm": {
     "name": "#%% md\n"
    },
    "slideshow": {
     "slide_type": "slide"
    }
   },
   "source": [
    "## Lie group action\n",
    "A Lie group can act on a smooth manifold $\\cal{M}$ with action $\\cdot : G \\times \\cal{M} \\rightarrow \\cal{M}$ satisfying:\n",
    "\n",
    "1) $ e \\cdot x = x $\n",
    "\n",
    "2) $g \\cdot (h \\cdot x)= gh \\cdot x$\n",
    "\n",
    "A Lie group action is **transitive** if $\\forall m \\in \\cal{M} \\ \\exists g \\in G $ such that $m = g \\cdot x$"
   ]
  },
  {
   "cell_type": "markdown",
   "metadata": {
    "slideshow": {
     "slide_type": "slide"
    }
   },
   "source": [
    "## Integration on manifolds"
   ]
  },
  {
   "cell_type": "markdown",
   "metadata": {
    "pycharm": {
     "name": "#%% md\n"
    },
    "slideshow": {
     "slide_type": "slide"
    }
   },
   "source": [
    "### Problem\n",
    "We consider a vector field $X$ on the smooth manifold $\\cal{M}$ resulting in the initial value problem\n",
    "\n",
    "\\begin{aligned}\n",
    "\\dot y &= X(y) \\\\\n",
    " y(0) &= y_0\n",
    "\\end{aligned}\n",
    "\n",
    "for any $y_0 \\in \\cal{M}$.\n",
    "\n",
    "If we try to use normal Runge-Kutta schemes we might end up outside the manifold."
   ]
  },
  {
   "cell_type": "markdown",
   "metadata": {
    "pycharm": {
     "name": "#%% md\n"
    },
    "slideshow": {
     "slide_type": "slide"
    }
   },
   "source": [
    "### Example of why RK might fail\n",
    "We consider an initial value problem on $SO(n)$, with vector field  $X(Y)  =  A(Y) Y$, where A(Y) is a skew symmetric matrix and $Y(0) = Y_0$.\n",
    "\n",
    "If we use forward euler we get:\n",
    "\n",
    "\\begin{equation}\n",
    "   Y_1 = Y_0 + h A(Y_0)Y_0.\n",
    "\\end{equation}\n",
    "\n",
    "We check that we are still inn $SO(n)$\n",
    "\n",
    "\\begin{equation}\n",
    "    Y_1^T Y_1  =  (Y_0 + h A(Y_0)Y_0)^T(Y_0 + h A(Y_0)Y_0) = I - h^2Y_0^T A(Y_0)^2 Y_0 \\neq I\n",
    "\\end{equation}"
   ]
  },
  {
   "cell_type": "markdown",
   "metadata": {
    "pycharm": {
     "name": "#%% md\n"
    },
    "slideshow": {
     "slide_type": "slide"
    }
   },
   "source": [
    "### Solution: Take steps using the exponential map\n",
    "Using the exponential map we easily get the Lie Euler method\n",
    "\n",
    "\\begin{equation}\n",
    "    Y_1 = \\exp{A(h Y_0)}Y_0\n",
    "\\end{equation}\n",
    "\n",
    "**Notice:**\n",
    "* The first step integrates the vector field $X(Y) = A(Y_0)Y$\n",
    "* The coincides with forward Euler up to order 2\n",
    "* The method has order 1"
   ]
  },
  {
   "cell_type": "markdown",
   "metadata": {
    "slideshow": {
     "slide_type": "slide"
    }
   },
   "source": [
    "## Methods based on freezing the vector field\n",
    "Assume we have set of vector fields $\\{\\cal{E}_1,...,\\cal{E}_d\\}$ such that for any vector field $X$ and $y$ in $\\cal{M}$ :\n",
    "\n",
    "\\begin{equation}\n",
    "   X(y) = \\sum_{i=1}^{d} f_i(y) \\cal{E}_i(y).\n",
    "\\end{equation}\n",
    "\n",
    "Then the frozen vector field at $p$ is then defined as\n",
    "\n",
    "\\begin{equation}\n",
    "   X_p(y) = \\sum_{i=1}^{d} f_i(p) \\cal{E}_i(y).\n",
    "\\end{equation}\n",
    "\n",
    "The idea is then to take steps using this frozen vector field."
   ]
  },
  {
   "cell_type": "markdown",
   "metadata": {
    "pycharm": {
     "name": "#%% md\n"
    },
    "slideshow": {
     "slide_type": "slide"
    }
   },
   "source": [
    "### Example\n",
    "Consider the vector field $X(Y) = A(Y) \\cdot Y, \\ A(Y) \\in \\mathfrak{g}$.\n",
    "Here the frozen vector field at point $p$ is the vector field $A(p) \\cdot Y$. \n",
    "\n",
    "This is integrated exactly by the exponential map.\n",
    "\n"
   ]
  },
  {
   "cell_type": "markdown",
   "metadata": {
    "pycharm": {
     "name": "#%% md\n"
    },
    "slideshow": {
     "slide_type": "slide"
    }
   },
   "source": [
    "## Crouch and Grossman methods\n",
    "Crouch and Grossman methods calculates the frozen vector fields and takes steps using one vector field.\n",
    "\n",
    "Fo Butcher Tableau :\n",
    "\n",
    "\\begin{array}\n",
    "{c|cccc}\n",
    "0\\\\\n",
    "-\\frac{1}{24} & -\\frac{1}{24}\\\\\n",
    "\\frac{17}{24} & -\\frac{161}{24} & -6\\\\\n",
    "\\hline\n",
    "& 1 & - \\frac{2}{3} &\\frac{2}{3}\n",
    "\\end{array}\n",
    "\n",
    "we get:\n",
    "\n",
    "\\begin{aligned}\n",
    "K_1 &= Y_0 \\\\\n",
    "K_2 &= \\exp(−h/24 A(K_1))Y_0 \\\\\n",
    "K_3 &= \\exp(−6 hA(K_2)) \\exp(161/24 hA(K_1)) Y_0 \\\\\n",
    "Y_1 &= \\exp(2/3 hA(K_3)) \\exp(−2/3 hA(K_2)) \\exp(hA(K_1))Y_0,\\\\\n",
    "\\end{aligned}"
   ]
  },
  {
   "cell_type": "markdown",
   "metadata": {
    "slideshow": {
     "slide_type": "slide"
    }
   },
   "source": [
    "##Commutator-free methods\n",
    "Commutator free methods can use linear combinations of all frozen vector fields in the exponential.\n",
    "\n",
    "\n",
    "For Butcher Tableau :\n",
    "\n",
    "\\begin{array}\n",
    "{c|cccc}\n",
    "0\\\\\n",
    "\\frac{1}{3} & \\frac{1}{3}\\\\\n",
    "\\frac{2}{3} & 0& \\frac{2}{3}  \\\\\n",
    "\\hline\n",
    "&   \\frac{1}{3} & 0 & 0 \\\\\n",
    "&   -\\frac{1}{12} & 0 &\\frac{3}{4}\n",
    "\\end{array}\n",
    "\n",
    "we get:\n",
    "\n",
    "\\begin{aligned}\n",
    "K_1 &= Y_0 \\\\\n",
    "K_2 &= \\exp(−h/3 A(K_1))Y_0 \\\\\n",
    "K_3 &= \\exp(−2/3 hA(K_1)) Y_0 \\\\\n",
    "Y_1 &= \\exp(-1/12 hA(K_1)) + 3/4 hA(K_2))K_2,\\\\\n",
    "\\end{aligned}"
   ]
  },
  {
   "cell_type": "markdown",
   "metadata": {
    "slideshow": {
     "slide_type": "slide"
    }
   },
   "source": [
    "## RK-MK methods\n",
    "Assume that $\\cal{M}$ is acted upon *transitively* by a Lie group G. Then any curve in $\\cal{M}$ can be written on the form $y(t) = g(t) \\cdot y_0$.\n",
    "\n",
    "Furthermore, in neighborhood of $y(0)$\n",
    "\n",
    "\\begin{equation}\n",
    "y(t) = \\exp(\\sigma(t))\\cdot y(0)\n",
    "\\end{equation}\n",
    "\n",
    "One then  approximates $\\sigma(t)$ ending up with the resulting methods:\n",
    "\n",
    "\\begin{aligned}\n",
    "K_i &= d \\exp^{-1}_{\\sum_i a_{ij} K_j} A(\\exp(h \\sum_j a_{ij}K_j) \\cdot y_0), \\ i=1,...,s\\\\\n",
    "Y_1 &= \\exp(h \\sum_{i=1}^{s} b_i k_i ) \\cdot y_0 \\\\\n",
    "\\end{aligned}\n",
    "\n",
    "These methods have the advantage that they preserve the order of the original RK method.\n"
   ]
  },
  {
   "cell_type": "markdown",
   "metadata": {
    "slideshow": {
     "slide_type": "slide"
    }
   },
   "source": [
    "## Euler free rigid body equations\n",
    "\n",
    "We now test the methods on the Euler free rigid body equations\n",
    "\n",
    "\\begin{equation}\n",
    "    \\dot L = \\text{skew}(I^{-1} L)L,\n",
    "\\end{equation}\n",
    "\n",
    "where $L = \\text{diag}(I_y,I_y, I_x)$ and\n",
    "\n",
    "\\begin{equation}\n",
    "    \\text{skew}(v) = \\begin{bmatrix}\n",
    "    0 & v_3 & -v_2  \\\\\n",
    "    -v_3 & 0 & v_{1}  \\\\\n",
    "    v_2 & -v_1 & 0\n",
    "\\end{bmatrix}\n",
    "\\end{equation}\n",
    "\n",
    "**Note:** The equation has form $X(Y) = A(t) \\cdot Y$, and  $L^T L$ is constant."
   ]
  },
  {
   "cell_type": "markdown",
   "metadata": {
    "pycharm": {
     "name": "#%% md\n"
    },
    "slideshow": {
     "slide_type": "slide"
    }
   },
   "source": [
    "# Numerical results"
   ]
  },
  {
   "cell_type": "code",
   "execution_count": null,
   "metadata": {
    "pycharm": {
     "name": "#%%\n"
    },
    "slideshow": {
     "slide_type": "skip"
    }
   },
   "outputs": [],
   "source": [
    "import numpy as np\n",
    "import scipy.integrate as si\n",
    "from lieint.integrate import lie_euler, com_free_3, crouch_grossmann_3, rkmk_3, so3_exp"
   ]
  },
  {
   "cell_type": "code",
   "execution_count": null,
   "metadata": {
    "pycharm": {
     "name": "#%%\n"
    },
    "slideshow": {
     "slide_type": "skip"
    }
   },
   "outputs": [],
   "source": [
    "def skew(v):\n",
    "    return np.array([\n",
    "        [0, v[2], -v[1]],\n",
    "        [-v[2], 0, v[0]],\n",
    "        [v[1], -v[0], 0]\n",
    "    ])"
   ]
  },
  {
   "cell_type": "code",
   "execution_count": null,
   "metadata": {
    "pycharm": {
     "name": "#%%\n"
    },
    "slideshow": {
     "slide_type": "subslide"
    }
   },
   "outputs": [],
   "source": [
    "t_0 = 0\n",
    "t_f = 100\n",
    "h = 1e-3\n",
    "\n",
    "y_0 = np.array([1, 4, 2])\n",
    "I_x = 1\n",
    "I_y = 2\n",
    "I_z = 3\n",
    "I = np.diag([I_x, I_y, I_z])\n",
    "I_inv = np.linalg.inv(I)\n",
    "\n",
    "\n",
    "def F(y,):\n",
    "    return skew(I_inv @ y)\n",
    "\n",
    "def Ft(t,y):\n",
    "    return skew(I_inv @ y) @ y\n",
    "\n",
    "print(\"euler \")\n",
    "y_eul, T = lie_euler(F, y_0=y_0, t_0=t_0, t_f=t_f, h=h, exp=so3_exp)\n",
    "print(\"com_free\")\n",
    "y_com, T = com_free_3(F, y_0=y_0, t_0=t_0, t_f=t_f, h=h, exp=so3_exp)\n",
    "print(\"CG\")\n",
    "y_cro, T = crouch_grossmann_3(F, y_0=y_0, t_0=t_0, t_f=t_f, h=h, exp=so3_exp)\n",
    "print(\"RKMK\")\n",
    "\n",
    "y_rkmk, T = rkmk_3(F, y_0=y_0, t_0=t_0, t_f=t_f, h=h, exp=so3_exp)\n",
    "print(\"RK45\")\n",
    "rk_sol= si.solve_ivp(Ft,(t_0,t_f), y_0,max_step=h, method=\"RK23\")"
   ]
  },
  {
   "cell_type": "code",
   "execution_count": null,
   "metadata": {
    "pycharm": {
     "name": "#%%\n"
    },
    "slideshow": {
     "slide_type": "slide"
    }
   },
   "outputs": [],
   "source": [
    "yty_eul= np.array([y @ y  for y in y_eul] )\n",
    "yty_com = np.array([y @ y  for y in y_com] )\n",
    "yty_cro= np.array([y @ y  for y in y_cro] )\n",
    "yty_rkmk = np.array([y @ y  for y in y_rkmk] )\n",
    "yty_rk = np.array([y @ y  for y in rk_sol.y.T] )\n",
    "\n",
    "plt.plot(T,yty_eul - (y_0.T@y_0), label=\"Lie Euler \")\n",
    "plt.plot(T,yty_com - (y_0.T@y_0), label=\"Com. Free 3\")\n",
    "plt.plot(T,yty_cro - (y_0.T@y_0), label=\"Crouch Grossman 3\")\n",
    "plt.plot(T,yty_rkmk - (y_0.T@y_0), label=\"RKMK 3\")\n",
    "plt.plot(rk_sol.t,yty_rk - (y_0.T@y_0), label=\"RK23\")\n",
    "plt.legend()\n",
    "plt.xlabel(\"t\")\n",
    "plt.ylabel(\"$L^TL - L_0^T L_0$\")\n",
    "plt.show()\n"
   ]
  },
  {
   "cell_type": "code",
   "execution_count": null,
   "metadata": {
    "pycharm": {
     "name": "#%%\n"
    },
    "slideshow": {
     "slide_type": "slide"
    }
   },
   "outputs": [],
   "source": [
    "plt.title(\"Trajectory\")\n",
    "plt.plot(y_eul.T[0],y_eul.T[1], label=\"Lie Euler\")\n",
    "plt.xlabel(\"L_x\")\n",
    "plt.ylabel(\"$\\L_y$\")\n",
    "plt.legend()\n",
    "plt.show()"
   ]
  },
  {
   "cell_type": "code",
   "execution_count": null,
   "metadata": {
    "pycharm": {
     "name": "#%%\n"
    },
    "slideshow": {
     "slide_type": "slide"
    }
   },
   "outputs": [],
   "source": [
    "plt.title(\"Trajectory\")\n",
    "plt.plot(y_com.T[0],y_com.T[1], label=\"Com. Free. 3\")\n",
    "plt.xlabel(\"L_x\")\n",
    "plt.ylabel(\"$\\L_y$\")\n",
    "plt.legend()\n",
    "plt.show()"
   ]
  },
  {
   "cell_type": "code",
   "execution_count": null,
   "metadata": {
    "pycharm": {
     "name": "#%%\n"
    },
    "slideshow": {
     "slide_type": "slide"
    }
   },
   "outputs": [],
   "source": [
    "plt.title(\"Trajectory\")\n",
    "plt.plot(y_cro.T[0],y_cro.T[1], label=\"Crouch Grossman 3\")\n",
    "plt.xlabel(\"L_x\")\n",
    "plt.ylabel(\"$\\L_y$\")\n",
    "plt.legend()\n",
    "plt.show()"
   ]
  },
  {
   "cell_type": "code",
   "execution_count": null,
   "metadata": {
    "pycharm": {
     "name": "#%%\n"
    },
    "slideshow": {
     "slide_type": "slide"
    }
   },
   "outputs": [],
   "source": [
    "plt.title(\"Trajectory\")\n",
    "plt.plot(y_rkmk.T[0],y_rkmk.T[1], label=\"RKMK 3\")\n",
    "plt.xlabel(\"L_x\")\n",
    "plt.ylabel(\"$\\L_y$\")\n",
    "plt.legend()\n",
    "plt.show()"
   ]
  },
  {
   "cell_type": "code",
   "execution_count": null,
   "metadata": {
    "pycharm": {
     "name": "#%%\n"
    },
    "slideshow": {
     "slide_type": "slide"
    }
   },
   "outputs": [],
   "source": [
    "plt.title(\"Trajectory\")\n",
    "plt.plot(rk_sol.y[0],rk_sol.y[1], label=\"RK23\")\n",
    "plt.xlabel(\"L_x\")\n",
    "plt.ylabel(\"$\\L_y$\")\n",
    "plt.legend()\n",
    "plt.show()"
   ]
  },
  {
   "cell_type": "markdown",
   "metadata": {
    "pycharm": {
     "name": "#%% md\n"
    },
    "slideshow": {
     "slide_type": "slide"
    }
   },
   "source": [
    "## Bibliography\n",
    "\n",
    "[1] Celledoni, Elena (2013) *Lie Group Methods* NTNU\n",
    "\n",
    "[2] Celledoni, Elena & Marthinsen, Håkon & Owren, Brynjulf. (2014). An introduction to Lie group integrators - basics, new developments and applications. Journal of Computational Physics. 257, Part B. 1040-1061. 10.1016/j.jcp.2012.12.031.\n"
   ]
  }
 ],
 "metadata": {
  "celltoolbar": "Slideshow",
  "kernelspec": {
   "display_name": "Python 3",
   "language": "python",
   "name": "python3"
  },
  "language_info": {
   "codemirror_mode": {
    "name": "ipython",
    "version": 3
   },
   "file_extension": ".py",
   "mimetype": "text/x-python",
   "name": "python",
   "nbconvert_exporter": "python",
   "pygments_lexer": "ipython3",
   "version": "3.9.7"
  }
 },
 "nbformat": 4,
 "nbformat_minor": 1
}