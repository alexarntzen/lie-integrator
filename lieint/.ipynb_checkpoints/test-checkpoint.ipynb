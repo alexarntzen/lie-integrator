{
 "cells": [
  {
   "cell_type": "markdown",
   "metadata": {
    "collapsed": true,
    "pycharm": {
     "name": "#%% md\n"
    }
   },
   "source": [
    "Test"
   ]
  },
  {
   "cell_type": "code",
   "execution_count": 14,
   "metadata": {
    "pycharm": {
     "name": "#%%\n"
    }
   },
   "outputs": [
    {
     "name": "stdout",
     "output_type": "stream",
     "text": [
      "The autoreload extension is already loaded. To reload it, use:\n",
      "  %reload_ext autoreload\n"
     ]
    }
   ],
   "source": [
    "% load_ext autoreload\n",
    "% autoreload 2\n",
    "\n",
    "import numpy as np\n",
    "\n",
    "from lieint.integrate import lie_euler, so3_exp\n",
    "\n",
    "\n",
    "def skew(v):\n",
    "    return np.array([\n",
    "        [0, v[2], -v[1]],\n",
    "        [-v[2], 0, v[0]],\n",
    "        [v[1], -v[0], 0]\n",
    "    ])"
   ]
  },
  {
   "cell_type": "code",
   "execution_count": 40,
   "metadata": {
    "pycharm": {
     "name": "#%%\n"
    }
   },
   "outputs": [],
   "source": [
    "t_0 = 0\n",
    "t_f = 1\n",
    "h = 1e-3\n",
    "\n",
    "y_0 = np.array([1, 4, 2])\n",
    "I_x = 1\n",
    "I_y = 2\n",
    "I_z = 3\n",
    "I = np.diag([I_x, I_y, I_z])\n",
    "I_inv = np.linalg.inv(I)\n",
    "\n",
    "\n",
    "def F(y):\n",
    "    return skew(I_inv @ y)\n",
    "\n",
    "\n",
    "y_list, T = lie_euler(F, y_0=y_0, t_0=t_0, t_f=t_f, h=h, exp=so3_exp)"
   ]
  },
  {
   "cell_type": "code",
   "execution_count": 41,
   "metadata": {
    "pycharm": {
     "name": "#%%\n"
    }
   },
   "outputs": [
    {
     "data": {
      "text/plain": [
       "[<matplotlib.lines.Line2D at 0x124e73370>]"
      ]
     },
     "execution_count": 41,
     "metadata": {},
     "output_type": "execute_result"
    },
    {
     "data": {
      "image/png": "[encoded data removed]",
      "text/plain": [
       "<Figure size 432x288 with 1 Axes>"
      ]
     },
     "metadata": {
      "needs_background": "light"
     },
     "output_type": "display_data"
    }
   ],
   "source": [
    "import matplotlib.pyplot as plt\n",
    "\n",
    "# print(y_list)\n",
    "yty = np.array([y @ y  for y in y_list] )\n",
    "plt.plot(T,yty - (y_0.T@y_0))\n",
    "# print(y_list @ y_list.T)\n",
    "# plt.plot(T,y_list)"
   ]
  },
  {
   "cell_type": "code",
   "execution_count": null,
   "metadata": {
    "pycharm": {
     "name": "#%%\n"
    }
   },
   "outputs": [],
   "source": []
  }
 ],
 "metadata": {
  "kernelspec": {
   "display_name": "Python 3",
   "language": "python",
   "name": "python3"
  },
  "language_info": {
   "codemirror_mode": {
    "name": "ipython",
    "version": 3
   },
   "file_extension": ".py",
   "mimetype": "text/x-python",
   "name": "python",
   "nbconvert_exporter": "python",
   "pygments_lexer": "ipython3",
   "version": "3.9.7"
  }
 },
 "nbformat": 4,
 "nbformat_minor": 1
}
